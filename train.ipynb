{
 "cells": [
  {
   "cell_type": "code",
   "execution_count": 2,
   "metadata": {},
   "outputs": [],
   "source": [
    "import logging\n",
    "import sys\n",
    "import traceback\n",
    "from datetime import datetime\n",
    "import datasets\n",
    "from datasets import load_dataset\n",
    "import sentence_transformers\n",
    "from sentence_transformers import SentenceTransformer, losses\n",
    "from sentence_transformers.evaluation import EmbeddingSimilarityEvaluator\n",
    "from sentence_transformers.similarity_functions import SimilarityFunction\n",
    "from sentence_transformers.trainer import SentenceTransformerTrainer\n",
    "from sentence_transformers.training_args import SentenceTransformerTrainingArguments"
   ]
  },
  {
   "cell_type": "code",
   "execution_count": 3,
   "metadata": {},
   "outputs": [
    {
     "name": "stderr",
     "output_type": "stream",
     "text": [
      "No sentence-transformers model found with name D:\\SBERT-Training\\distilbert-base-uncased. Creating a new one with mean pooling.\n"
     ]
    }
   ],
   "source": [
    "path='D:\\\\SBERT-Training\\\\distilbert-base-uncased'\n",
    "model=SentenceTransformer(path)"
   ]
  },
  {
   "cell_type": "code",
   "execution_count": 4,
   "metadata": {},
   "outputs": [],
   "source": [
    "# Set the log level to INFO to get more information\n",
    "logging.basicConfig(format=\"%(asctime)s - %(message)s\", datefmt=\"%Y-%m-%d %H:%M:%S\", level=logging.INFO)\n",
    "model_name=\"distilbert-base-uncased\"\n",
    "train_batch_size = 16\n",
    "num_epochs = 1\n",
    "output_dir = (\n",
    "    \"output/training_stsbenchmark_\" + model_name.replace(\"/\", \"-\") + \"-\" + datetime.now().strftime(\"%Y-%m-%d_%H-%M-%S\")\n",
    ")\n"
   ]
  },
  {
   "cell_type": "code",
   "execution_count": 5,
   "metadata": {},
   "outputs": [
    {
     "name": "stderr",
     "output_type": "stream",
     "text": [
      "2024-06-28 23:34:26 - Dataset({\n",
      "    features: ['sentence1', 'sentence2', 'score'],\n",
      "    num_rows: 5749\n",
      "})\n"
     ]
    }
   ],
   "source": [
    "train_dataset = load_dataset(\"sentence-transformers/stsb\", split=\"train\")\n",
    "eval_dataset = load_dataset(\"sentence-transformers/stsb\", split=\"validation\")\n",
    "test_dataset = load_dataset(\"sentence-transformers/stsb\", split=\"test\")\n",
    "logging.info(train_dataset)"
   ]
  },
  {
   "cell_type": "markdown",
   "metadata": {},
   "source": [
    "### Save to and load from local"
   ]
  },
  {
   "cell_type": "code",
   "execution_count": 21,
   "metadata": {},
   "outputs": [
    {
     "data": {
      "application/vnd.jupyter.widget-view+json": {
       "model_id": "a976db17fed04233b31b0cb816653b32",
       "version_major": 2,
       "version_minor": 0
      },
      "text/plain": [
       "Saving the dataset (0/1 shards):   0%|          | 0/5749 [00:00<?, ? examples/s]"
      ]
     },
     "metadata": {},
     "output_type": "display_data"
    }
   ],
   "source": [
    "train_dataset.save_to_disk('D:\\\\SBERT-Training\\\\datasets\\\\train')"
   ]
  },
  {
   "cell_type": "code",
   "execution_count": 22,
   "metadata": {},
   "outputs": [
    {
     "data": {
      "application/vnd.jupyter.widget-view+json": {
       "model_id": "3f6d9ca47e9641c094862ec8f74d1cf6",
       "version_major": 2,
       "version_minor": 0
      },
      "text/plain": [
       "Saving the dataset (0/1 shards):   0%|          | 0/1500 [00:00<?, ? examples/s]"
      ]
     },
     "metadata": {},
     "output_type": "display_data"
    }
   ],
   "source": [
    "eval_dataset.save_to_disk('D:\\\\SBERT-Training\\\\datasets\\\\eval')"
   ]
  },
  {
   "cell_type": "code",
   "execution_count": 23,
   "metadata": {},
   "outputs": [
    {
     "data": {
      "application/vnd.jupyter.widget-view+json": {
       "model_id": "382cc381f2e341168e09a2634b35f47e",
       "version_major": 2,
       "version_minor": 0
      },
      "text/plain": [
       "Saving the dataset (0/1 shards):   0%|          | 0/1379 [00:00<?, ? examples/s]"
      ]
     },
     "metadata": {},
     "output_type": "display_data"
    }
   ],
   "source": [
    "test_dataset.save_to_disk('D:\\\\SBERT-Training\\\\datasets\\\\test')"
   ]
  },
  {
   "cell_type": "code",
   "execution_count": 24,
   "metadata": {},
   "outputs": [
    {
     "data": {
      "text/plain": [
       "Dataset({\n",
       "    features: ['sentence1', 'sentence2', 'score'],\n",
       "    num_rows: 5749\n",
       "})"
      ]
     },
     "execution_count": 24,
     "metadata": {},
     "output_type": "execute_result"
    }
   ],
   "source": [
    "train_dataset=datasets.load_from_disk(\"D:\\\\SBERT-Training\\\\datasets\\\\train\")\n",
    "train_dataset"
   ]
  },
  {
   "cell_type": "code",
   "execution_count": 25,
   "metadata": {},
   "outputs": [
    {
     "data": {
      "text/plain": [
       "Dataset({\n",
       "    features: ['sentence1', 'sentence2', 'score'],\n",
       "    num_rows: 1379\n",
       "})"
      ]
     },
     "execution_count": 25,
     "metadata": {},
     "output_type": "execute_result"
    }
   ],
   "source": [
    "test_dataset=datasets.load_from_disk(\"D:\\\\SBERT-Training\\\\datasets\\\\test\")\n",
    "test_dataset"
   ]
  },
  {
   "cell_type": "code",
   "execution_count": 26,
   "metadata": {},
   "outputs": [
    {
     "data": {
      "text/plain": [
       "Dataset({\n",
       "    features: ['sentence1', 'sentence2', 'score'],\n",
       "    num_rows: 1500\n",
       "})"
      ]
     },
     "execution_count": 26,
     "metadata": {},
     "output_type": "execute_result"
    }
   ],
   "source": [
    "eval_dataset=datasets.load_from_disk(\"D:\\\\SBERT-Training\\\\datasets\\\\eval\")\n",
    "eval_dataset"
   ]
  },
  {
   "cell_type": "markdown",
   "metadata": {},
   "source": [
    "### Converting to csv format"
   ]
  },
  {
   "cell_type": "code",
   "execution_count": 27,
   "metadata": {},
   "outputs": [],
   "source": [
    "import pandas as pd"
   ]
  },
  {
   "cell_type": "code",
   "execution_count": 28,
   "metadata": {},
   "outputs": [
    {
     "data": {
      "text/html": [
       "<div>\n",
       "<style scoped>\n",
       "    .dataframe tbody tr th:only-of-type {\n",
       "        vertical-align: middle;\n",
       "    }\n",
       "\n",
       "    .dataframe tbody tr th {\n",
       "        vertical-align: top;\n",
       "    }\n",
       "\n",
       "    .dataframe thead th {\n",
       "        text-align: right;\n",
       "    }\n",
       "</style>\n",
       "<table border=\"1\" class=\"dataframe\">\n",
       "  <thead>\n",
       "    <tr style=\"text-align: right;\">\n",
       "      <th></th>\n",
       "      <th>sentence1</th>\n",
       "      <th>sentence2</th>\n",
       "      <th>score</th>\n",
       "    </tr>\n",
       "  </thead>\n",
       "  <tbody>\n",
       "    <tr>\n",
       "      <th>0</th>\n",
       "      <td>A plane is taking off.</td>\n",
       "      <td>An air plane is taking off.</td>\n",
       "      <td>1.00</td>\n",
       "    </tr>\n",
       "    <tr>\n",
       "      <th>1</th>\n",
       "      <td>A man is playing a large flute.</td>\n",
       "      <td>A man is playing a flute.</td>\n",
       "      <td>0.76</td>\n",
       "    </tr>\n",
       "    <tr>\n",
       "      <th>2</th>\n",
       "      <td>A man is spreading shreded cheese on a pizza.</td>\n",
       "      <td>A man is spreading shredded cheese on an uncoo...</td>\n",
       "      <td>0.76</td>\n",
       "    </tr>\n",
       "    <tr>\n",
       "      <th>3</th>\n",
       "      <td>Three men are playing chess.</td>\n",
       "      <td>Two men are playing chess.</td>\n",
       "      <td>0.52</td>\n",
       "    </tr>\n",
       "    <tr>\n",
       "      <th>4</th>\n",
       "      <td>A man is playing the cello.</td>\n",
       "      <td>A man seated is playing the cello.</td>\n",
       "      <td>0.85</td>\n",
       "    </tr>\n",
       "    <tr>\n",
       "      <th>...</th>\n",
       "      <td>...</td>\n",
       "      <td>...</td>\n",
       "      <td>...</td>\n",
       "    </tr>\n",
       "    <tr>\n",
       "      <th>5744</th>\n",
       "      <td>Severe Gales As Storm Clodagh Hits Britain</td>\n",
       "      <td>Merkel pledges NATO solidarity with Latvia</td>\n",
       "      <td>0.00</td>\n",
       "    </tr>\n",
       "    <tr>\n",
       "      <th>5745</th>\n",
       "      <td>Dozens of Egyptians hostages taken by Libyan t...</td>\n",
       "      <td>Egyptian boat crash death toll rises as more b...</td>\n",
       "      <td>0.00</td>\n",
       "    </tr>\n",
       "    <tr>\n",
       "      <th>5746</th>\n",
       "      <td>President heading to Bahrain</td>\n",
       "      <td>President Xi: China to continue help to fight ...</td>\n",
       "      <td>0.00</td>\n",
       "    </tr>\n",
       "    <tr>\n",
       "      <th>5747</th>\n",
       "      <td>China, India vow to further bilateral ties</td>\n",
       "      <td>China Scrambles to Reassure Jittery Stock Traders</td>\n",
       "      <td>0.00</td>\n",
       "    </tr>\n",
       "    <tr>\n",
       "      <th>5748</th>\n",
       "      <td>Putin spokesman: Doping charges appear unfounded</td>\n",
       "      <td>The Latest on Severe Weather: 1 Dead in Texas ...</td>\n",
       "      <td>0.00</td>\n",
       "    </tr>\n",
       "  </tbody>\n",
       "</table>\n",
       "<p>5749 rows × 3 columns</p>\n",
       "</div>"
      ],
      "text/plain": [
       "                                              sentence1  \\\n",
       "0                                A plane is taking off.   \n",
       "1                       A man is playing a large flute.   \n",
       "2         A man is spreading shreded cheese on a pizza.   \n",
       "3                          Three men are playing chess.   \n",
       "4                           A man is playing the cello.   \n",
       "...                                                 ...   \n",
       "5744         Severe Gales As Storm Clodagh Hits Britain   \n",
       "5745  Dozens of Egyptians hostages taken by Libyan t...   \n",
       "5746                       President heading to Bahrain   \n",
       "5747         China, India vow to further bilateral ties   \n",
       "5748   Putin spokesman: Doping charges appear unfounded   \n",
       "\n",
       "                                              sentence2  score  \n",
       "0                           An air plane is taking off.   1.00  \n",
       "1                             A man is playing a flute.   0.76  \n",
       "2     A man is spreading shredded cheese on an uncoo...   0.76  \n",
       "3                            Two men are playing chess.   0.52  \n",
       "4                    A man seated is playing the cello.   0.85  \n",
       "...                                                 ...    ...  \n",
       "5744         Merkel pledges NATO solidarity with Latvia   0.00  \n",
       "5745  Egyptian boat crash death toll rises as more b...   0.00  \n",
       "5746  President Xi: China to continue help to fight ...   0.00  \n",
       "5747  China Scrambles to Reassure Jittery Stock Traders   0.00  \n",
       "5748  The Latest on Severe Weather: 1 Dead in Texas ...   0.00  \n",
       "\n",
       "[5749 rows x 3 columns]"
      ]
     },
     "execution_count": 28,
     "metadata": {},
     "output_type": "execute_result"
    }
   ],
   "source": [
    "train_data=pd.DataFrame({'sentence1':train_dataset['sentence1'],\n",
    "                         'sentence2':train_dataset['sentence2'],\n",
    "                         'score':train_dataset['score']})\n",
    "train_data"
   ]
  },
  {
   "cell_type": "code",
   "execution_count": 29,
   "metadata": {},
   "outputs": [
    {
     "data": {
      "text/html": [
       "<div>\n",
       "<style scoped>\n",
       "    .dataframe tbody tr th:only-of-type {\n",
       "        vertical-align: middle;\n",
       "    }\n",
       "\n",
       "    .dataframe tbody tr th {\n",
       "        vertical-align: top;\n",
       "    }\n",
       "\n",
       "    .dataframe thead th {\n",
       "        text-align: right;\n",
       "    }\n",
       "</style>\n",
       "<table border=\"1\" class=\"dataframe\">\n",
       "  <thead>\n",
       "    <tr style=\"text-align: right;\">\n",
       "      <th></th>\n",
       "      <th>sentence1</th>\n",
       "      <th>sentence2</th>\n",
       "      <th>score</th>\n",
       "    </tr>\n",
       "  </thead>\n",
       "  <tbody>\n",
       "    <tr>\n",
       "      <th>0</th>\n",
       "      <td>A man with a hard hat is dancing.</td>\n",
       "      <td>A man wearing a hard hat is dancing.</td>\n",
       "      <td>1.00</td>\n",
       "    </tr>\n",
       "    <tr>\n",
       "      <th>1</th>\n",
       "      <td>A young child is riding a horse.</td>\n",
       "      <td>A child is riding a horse.</td>\n",
       "      <td>0.95</td>\n",
       "    </tr>\n",
       "    <tr>\n",
       "      <th>2</th>\n",
       "      <td>A man is feeding a mouse to a snake.</td>\n",
       "      <td>The man is feeding a mouse to the snake.</td>\n",
       "      <td>1.00</td>\n",
       "    </tr>\n",
       "    <tr>\n",
       "      <th>3</th>\n",
       "      <td>A woman is playing the guitar.</td>\n",
       "      <td>A man is playing guitar.</td>\n",
       "      <td>0.48</td>\n",
       "    </tr>\n",
       "    <tr>\n",
       "      <th>4</th>\n",
       "      <td>A woman is playing the flute.</td>\n",
       "      <td>A man is playing a flute.</td>\n",
       "      <td>0.55</td>\n",
       "    </tr>\n",
       "    <tr>\n",
       "      <th>...</th>\n",
       "      <td>...</td>\n",
       "      <td>...</td>\n",
       "      <td>...</td>\n",
       "    </tr>\n",
       "    <tr>\n",
       "      <th>1495</th>\n",
       "      <td>Scientists prove there is water on Mars</td>\n",
       "      <td>Has Nasa discovered water on Mars?</td>\n",
       "      <td>0.40</td>\n",
       "    </tr>\n",
       "    <tr>\n",
       "      <th>1496</th>\n",
       "      <td>Pranab stresses need to strive for peace by na...</td>\n",
       "      <td>WTO: India regrets action of developed nations</td>\n",
       "      <td>0.00</td>\n",
       "    </tr>\n",
       "    <tr>\n",
       "      <th>1497</th>\n",
       "      <td>Volkswagen skids into red in wake of pollution...</td>\n",
       "      <td>Volkswagen's \"gesture of goodwill\" to diesel o...</td>\n",
       "      <td>0.40</td>\n",
       "    </tr>\n",
       "    <tr>\n",
       "      <th>1498</th>\n",
       "      <td>Obama is right: Africa deserves better leadership</td>\n",
       "      <td>Obama waiting for midterm to name attorney gen...</td>\n",
       "      <td>0.00</td>\n",
       "    </tr>\n",
       "    <tr>\n",
       "      <th>1499</th>\n",
       "      <td>New video shows US police officers beating men...</td>\n",
       "      <td>New York police officer critically wounded in ...</td>\n",
       "      <td>0.00</td>\n",
       "    </tr>\n",
       "  </tbody>\n",
       "</table>\n",
       "<p>1500 rows × 3 columns</p>\n",
       "</div>"
      ],
      "text/plain": [
       "                                              sentence1  \\\n",
       "0                     A man with a hard hat is dancing.   \n",
       "1                      A young child is riding a horse.   \n",
       "2                  A man is feeding a mouse to a snake.   \n",
       "3                        A woman is playing the guitar.   \n",
       "4                         A woman is playing the flute.   \n",
       "...                                                 ...   \n",
       "1495            Scientists prove there is water on Mars   \n",
       "1496  Pranab stresses need to strive for peace by na...   \n",
       "1497  Volkswagen skids into red in wake of pollution...   \n",
       "1498  Obama is right: Africa deserves better leadership   \n",
       "1499  New video shows US police officers beating men...   \n",
       "\n",
       "                                              sentence2  score  \n",
       "0                  A man wearing a hard hat is dancing.   1.00  \n",
       "1                            A child is riding a horse.   0.95  \n",
       "2              The man is feeding a mouse to the snake.   1.00  \n",
       "3                              A man is playing guitar.   0.48  \n",
       "4                             A man is playing a flute.   0.55  \n",
       "...                                                 ...    ...  \n",
       "1495                 Has Nasa discovered water on Mars?   0.40  \n",
       "1496     WTO: India regrets action of developed nations   0.00  \n",
       "1497  Volkswagen's \"gesture of goodwill\" to diesel o...   0.40  \n",
       "1498  Obama waiting for midterm to name attorney gen...   0.00  \n",
       "1499  New York police officer critically wounded in ...   0.00  \n",
       "\n",
       "[1500 rows x 3 columns]"
      ]
     },
     "execution_count": 29,
     "metadata": {},
     "output_type": "execute_result"
    }
   ],
   "source": [
    "eval_data=pd.DataFrame({'sentence1':eval_dataset['sentence1'],\n",
    "                         'sentence2':eval_dataset['sentence2'],\n",
    "                         'score':eval_dataset['score']})\n",
    "eval_data"
   ]
  },
  {
   "cell_type": "code",
   "execution_count": 30,
   "metadata": {},
   "outputs": [
    {
     "data": {
      "text/html": [
       "<div>\n",
       "<style scoped>\n",
       "    .dataframe tbody tr th:only-of-type {\n",
       "        vertical-align: middle;\n",
       "    }\n",
       "\n",
       "    .dataframe tbody tr th {\n",
       "        vertical-align: top;\n",
       "    }\n",
       "\n",
       "    .dataframe thead th {\n",
       "        text-align: right;\n",
       "    }\n",
       "</style>\n",
       "<table border=\"1\" class=\"dataframe\">\n",
       "  <thead>\n",
       "    <tr style=\"text-align: right;\">\n",
       "      <th></th>\n",
       "      <th>sentence1</th>\n",
       "      <th>sentence2</th>\n",
       "      <th>score</th>\n",
       "    </tr>\n",
       "  </thead>\n",
       "  <tbody>\n",
       "    <tr>\n",
       "      <th>0</th>\n",
       "      <td>A girl is styling her hair.</td>\n",
       "      <td>A girl is brushing her hair.</td>\n",
       "      <td>0.50</td>\n",
       "    </tr>\n",
       "    <tr>\n",
       "      <th>1</th>\n",
       "      <td>A group of men play soccer on the beach.</td>\n",
       "      <td>A group of boys are playing soccer on the beach.</td>\n",
       "      <td>0.72</td>\n",
       "    </tr>\n",
       "    <tr>\n",
       "      <th>2</th>\n",
       "      <td>One woman is measuring another woman's ankle.</td>\n",
       "      <td>A woman measures another woman's ankle.</td>\n",
       "      <td>1.00</td>\n",
       "    </tr>\n",
       "    <tr>\n",
       "      <th>3</th>\n",
       "      <td>A man is cutting up a cucumber.</td>\n",
       "      <td>A man is slicing a cucumber.</td>\n",
       "      <td>0.84</td>\n",
       "    </tr>\n",
       "    <tr>\n",
       "      <th>4</th>\n",
       "      <td>A man is playing a harp.</td>\n",
       "      <td>A man is playing a keyboard.</td>\n",
       "      <td>0.30</td>\n",
       "    </tr>\n",
       "    <tr>\n",
       "      <th>...</th>\n",
       "      <td>...</td>\n",
       "      <td>...</td>\n",
       "      <td>...</td>\n",
       "    </tr>\n",
       "    <tr>\n",
       "      <th>1374</th>\n",
       "      <td>Philippines, Canada pledge to further boost re...</td>\n",
       "      <td>Philippines saves 100 after ferry sinks</td>\n",
       "      <td>0.00</td>\n",
       "    </tr>\n",
       "    <tr>\n",
       "      <th>1375</th>\n",
       "      <td>Israel bars Palestinians from Jerusalem's Old ...</td>\n",
       "      <td>Two-state solution between Palestinians, Israe...</td>\n",
       "      <td>0.20</td>\n",
       "    </tr>\n",
       "    <tr>\n",
       "      <th>1376</th>\n",
       "      <td>How much do you know about Secret Service?</td>\n",
       "      <td>Lawmakers from both sides express outrage at S...</td>\n",
       "      <td>0.20</td>\n",
       "    </tr>\n",
       "    <tr>\n",
       "      <th>1377</th>\n",
       "      <td>Obama Struggles to Soothe Saudi Fears As Iran ...</td>\n",
       "      <td>Myanmar Struggles to Finalize Voter Lists for ...</td>\n",
       "      <td>0.00</td>\n",
       "    </tr>\n",
       "    <tr>\n",
       "      <th>1378</th>\n",
       "      <td>South Korea declares end to MERS outbreak</td>\n",
       "      <td>North Korea Delegation Meets With South Korean...</td>\n",
       "      <td>0.00</td>\n",
       "    </tr>\n",
       "  </tbody>\n",
       "</table>\n",
       "<p>1379 rows × 3 columns</p>\n",
       "</div>"
      ],
      "text/plain": [
       "                                              sentence1  \\\n",
       "0                           A girl is styling her hair.   \n",
       "1              A group of men play soccer on the beach.   \n",
       "2         One woman is measuring another woman's ankle.   \n",
       "3                       A man is cutting up a cucumber.   \n",
       "4                              A man is playing a harp.   \n",
       "...                                                 ...   \n",
       "1374  Philippines, Canada pledge to further boost re...   \n",
       "1375  Israel bars Palestinians from Jerusalem's Old ...   \n",
       "1376         How much do you know about Secret Service?   \n",
       "1377  Obama Struggles to Soothe Saudi Fears As Iran ...   \n",
       "1378          South Korea declares end to MERS outbreak   \n",
       "\n",
       "                                              sentence2  score  \n",
       "0                          A girl is brushing her hair.   0.50  \n",
       "1      A group of boys are playing soccer on the beach.   0.72  \n",
       "2               A woman measures another woman's ankle.   1.00  \n",
       "3                          A man is slicing a cucumber.   0.84  \n",
       "4                          A man is playing a keyboard.   0.30  \n",
       "...                                                 ...    ...  \n",
       "1374            Philippines saves 100 after ferry sinks   0.00  \n",
       "1375  Two-state solution between Palestinians, Israe...   0.20  \n",
       "1376  Lawmakers from both sides express outrage at S...   0.20  \n",
       "1377  Myanmar Struggles to Finalize Voter Lists for ...   0.00  \n",
       "1378  North Korea Delegation Meets With South Korean...   0.00  \n",
       "\n",
       "[1379 rows x 3 columns]"
      ]
     },
     "execution_count": 30,
     "metadata": {},
     "output_type": "execute_result"
    }
   ],
   "source": [
    "test_data=pd.DataFrame({'sentence1':test_dataset['sentence1'],\n",
    "                         'sentence2':test_dataset['sentence2'],\n",
    "                         'score':test_dataset['score']})\n",
    "test_data"
   ]
  },
  {
   "cell_type": "markdown",
   "metadata": {},
   "source": [
    "### CONTD."
   ]
  },
  {
   "cell_type": "code",
   "execution_count": 31,
   "metadata": {},
   "outputs": [],
   "source": [
    "# 3. Define our training loss\n",
    "# CosineSimilarityLoss (https://sbert.net/docs/package_reference/sentence_transformer/losses.html#cosinesimilarityloss) needs two text columns and one\n",
    "# similarity score column (between 0 and 1)\n",
    "train_loss = losses.CosineSimilarityLoss(model=model)\n",
    "# train_loss = losses.CoSENTLoss(model=model)"
   ]
  },
  {
   "cell_type": "code",
   "execution_count": 32,
   "metadata": {},
   "outputs": [],
   "source": [
    "# 4. Define an evaluator for use during training. This is useful to keep track of alongside the evaluation loss.\n",
    "dev_evaluator = EmbeddingSimilarityEvaluator(\n",
    "    sentences1=eval_data[\"sentence1\"],\n",
    "    sentences2=eval_data[\"sentence2\"],\n",
    "    scores=eval_data[\"score\"],\n",
    "    main_similarity=SimilarityFunction.COSINE,\n",
    "    name=\"sts-dev\",\n",
    ")"
   ]
  },
  {
   "cell_type": "markdown",
   "metadata": {},
   "source": [
    "%pip install accelerate -U\n",
    "%pip install transformers[torch]"
   ]
  },
  {
   "cell_type": "code",
   "execution_count": 33,
   "metadata": {},
   "outputs": [],
   "source": [
    "# 5. Define the training arguments\n",
    "\n",
    "args = SentenceTransformerTrainingArguments(\n",
    "    # Required parameter:\n",
    "    output_dir=output_dir,\n",
    "    # Optional training parameters:\n",
    "    num_train_epochs=num_epochs,\n",
    "    per_device_train_batch_size=train_batch_size,\n",
    "    per_device_eval_batch_size=train_batch_size,\n",
    "    warmup_ratio=0.1,\n",
    "    fp16=True,  # Set to False if you get an error that your GPU can't run on FP16\n",
    "    bf16=False,  # Set to True if you have a GPU that supports BF16\n",
    "    # Optional tracking/debugging parameters:\n",
    "    eval_strategy=\"steps\",\n",
    "    eval_steps=100,\n",
    "    save_strategy=\"steps\",\n",
    "    save_steps=100,\n",
    "    save_total_limit=2,\n",
    "    logging_steps=100,\n",
    "    run_name=\"sts\",  # Will be used in W&B if `wandb` is installed\n",
    ")"
   ]
  },
  {
   "cell_type": "code",
   "execution_count": 34,
   "metadata": {},
   "outputs": [
    {
     "data": {
      "application/vnd.jupyter.widget-view+json": {
       "model_id": "b26848896dfb4db8a1be7bbe960e3a3b",
       "version_major": 2,
       "version_minor": 0
      },
      "text/plain": [
       "  0%|          | 0/360 [00:00<?, ?it/s]"
      ]
     },
     "metadata": {},
     "output_type": "display_data"
    },
    {
     "name": "stdout",
     "output_type": "stream",
     "text": [
      "{'loss': 0.0569, 'grad_norm': 0.6537118554115295, 'learning_rate': 4.012345679012346e-05, 'epoch': 0.28}\n"
     ]
    },
    {
     "data": {
      "application/vnd.jupyter.widget-view+json": {
       "model_id": "a254674d06c1453b8a0bc2d44ee9fabd",
       "version_major": 2,
       "version_minor": 0
      },
      "text/plain": [
       "  0%|          | 0/94 [00:00<?, ?it/s]"
      ]
     },
     "metadata": {},
     "output_type": "display_data"
    },
    {
     "name": "stderr",
     "output_type": "stream",
     "text": [
      "2024-06-28 23:41:55 - EmbeddingSimilarityEvaluator: Evaluating the model on the sts-dev dataset:\n",
      "2024-06-28 23:42:32 - Cosine-Similarity :\tPearson: 0.8316\tSpearman: 0.8311\n",
      "2024-06-28 23:42:32 - Manhattan-Distance:\tPearson: 0.7852\tSpearman: 0.7905\n",
      "2024-06-28 23:42:32 - Euclidean-Distance:\tPearson: 0.7850\tSpearman: 0.7899\n",
      "2024-06-28 23:42:32 - Dot-Product-Similarity:\tPearson: 0.7634\tSpearman: 0.7733\n",
      "2024-06-28 23:42:34 - Saving model checkpoint to output/training_stsbenchmark_distilbert-base-uncased-2024-06-28_23-33-56\\checkpoint-100\n",
      "2024-06-28 23:42:34 - Save model to output/training_stsbenchmark_distilbert-base-uncased-2024-06-28_23-33-56\\checkpoint-100\n"
     ]
    },
    {
     "name": "stdout",
     "output_type": "stream",
     "text": [
      "{'eval_loss': 0.03234798088669777, 'eval_sts-dev_pearson_cosine': 0.8315716867771941, 'eval_sts-dev_spearman_cosine': 0.8311043630445402, 'eval_sts-dev_pearson_manhattan': 0.7852257137637472, 'eval_sts-dev_spearman_manhattan': 0.7904576983895036, 'eval_sts-dev_pearson_euclidean': 0.7850433859759056, 'eval_sts-dev_spearman_euclidean': 0.7899307151847849, 'eval_sts-dev_pearson_dot': 0.7634203913355301, 'eval_sts-dev_spearman_dot': 0.7732731832401658, 'eval_sts-dev_pearson_max': 0.8315716867771941, 'eval_sts-dev_spearman_max': 0.8311043630445402, 'eval_runtime': 96.1762, 'eval_samples_per_second': 15.596, 'eval_steps_per_second': 0.977, 'epoch': 0.28}\n"
     ]
    },
    {
     "data": {
      "application/vnd.jupyter.widget-view+json": {
       "model_id": "af9a5d44edf342d9b897c06825aa1b7b",
       "version_major": 2,
       "version_minor": 0
      },
      "text/plain": [
       "Computing widget examples:   0%|          | 0/1 [00:00<?, ?example/s]"
      ]
     },
     "metadata": {},
     "output_type": "display_data"
    },
    {
     "name": "stdout",
     "output_type": "stream",
     "text": [
      "{'loss': 0.0294, 'grad_norm': 0.7777989506721497, 'learning_rate': 2.4691358024691357e-05, 'epoch': 0.56}\n"
     ]
    },
    {
     "data": {
      "application/vnd.jupyter.widget-view+json": {
       "model_id": "39a7a3e04cd045d0ab5d20d64d85e4c1",
       "version_major": 2,
       "version_minor": 0
      },
      "text/plain": [
       "  0%|          | 0/94 [00:00<?, ?it/s]"
      ]
     },
     "metadata": {},
     "output_type": "display_data"
    },
    {
     "name": "stderr",
     "output_type": "stream",
     "text": [
      "2024-06-28 23:47:32 - EmbeddingSimilarityEvaluator: Evaluating the model on the sts-dev dataset:\n",
      "2024-06-28 23:48:09 - Cosine-Similarity :\tPearson: 0.8540\tSpearman: 0.8538\n",
      "2024-06-28 23:48:09 - Manhattan-Distance:\tPearson: 0.8223\tSpearman: 0.8248\n",
      "2024-06-28 23:48:09 - Euclidean-Distance:\tPearson: 0.8224\tSpearman: 0.8253\n",
      "2024-06-28 23:48:09 - Dot-Product-Similarity:\tPearson: 0.7917\tSpearman: 0.7953\n",
      "2024-06-28 23:48:11 - Saving model checkpoint to output/training_stsbenchmark_distilbert-base-uncased-2024-06-28_23-33-56\\checkpoint-200\n",
      "2024-06-28 23:48:11 - Save model to output/training_stsbenchmark_distilbert-base-uncased-2024-06-28_23-33-56\\checkpoint-200\n"
     ]
    },
    {
     "name": "stdout",
     "output_type": "stream",
     "text": [
      "{'eval_loss': 0.028163645416498184, 'eval_sts-dev_pearson_cosine': 0.8540389125075275, 'eval_sts-dev_spearman_cosine': 0.8537676301971472, 'eval_sts-dev_pearson_manhattan': 0.8222901771642033, 'eval_sts-dev_spearman_manhattan': 0.8247671160730421, 'eval_sts-dev_pearson_euclidean': 0.8223848586207668, 'eval_sts-dev_spearman_euclidean': 0.8252880529621309, 'eval_sts-dev_pearson_dot': 0.7917213035466448, 'eval_sts-dev_spearman_dot': 0.7953351854069197, 'eval_sts-dev_pearson_max': 0.8540389125075275, 'eval_sts-dev_spearman_max': 0.8537676301971472, 'eval_runtime': 96.3017, 'eval_samples_per_second': 15.576, 'eval_steps_per_second': 0.976, 'epoch': 0.56}\n",
      "{'loss': 0.0271, 'grad_norm': 0.7825676798820496, 'learning_rate': 9.259259259259259e-06, 'epoch': 0.83}\n"
     ]
    },
    {
     "data": {
      "application/vnd.jupyter.widget-view+json": {
       "model_id": "2d5bc2beee20407bb7bce25b2c11561f",
       "version_major": 2,
       "version_minor": 0
      },
      "text/plain": [
       "  0%|          | 0/94 [00:00<?, ?it/s]"
      ]
     },
     "metadata": {},
     "output_type": "display_data"
    },
    {
     "name": "stderr",
     "output_type": "stream",
     "text": [
      "2024-06-28 23:53:24 - EmbeddingSimilarityEvaluator: Evaluating the model on the sts-dev dataset:\n",
      "2024-06-28 23:54:25 - Cosine-Similarity :\tPearson: 0.8657\tSpearman: 0.8657\n",
      "2024-06-28 23:54:25 - Manhattan-Distance:\tPearson: 0.8298\tSpearman: 0.8348\n",
      "2024-06-28 23:54:25 - Euclidean-Distance:\tPearson: 0.8303\tSpearman: 0.8354\n",
      "2024-06-28 23:54:25 - Dot-Product-Similarity:\tPearson: 0.8093\tSpearman: 0.8120\n",
      "2024-06-28 23:54:25 - Saving model checkpoint to output/training_stsbenchmark_distilbert-base-uncased-2024-06-28_23-33-56\\checkpoint-300\n",
      "2024-06-28 23:54:25 - Save model to output/training_stsbenchmark_distilbert-base-uncased-2024-06-28_23-33-56\\checkpoint-300\n"
     ]
    },
    {
     "name": "stdout",
     "output_type": "stream",
     "text": [
      "{'eval_loss': 0.025070011615753174, 'eval_sts-dev_pearson_cosine': 0.8656936470200879, 'eval_sts-dev_spearman_cosine': 0.8657437835817434, 'eval_sts-dev_pearson_manhattan': 0.8298011668556344, 'eval_sts-dev_spearman_manhattan': 0.8348366586643715, 'eval_sts-dev_pearson_euclidean': 0.8302750243599466, 'eval_sts-dev_spearman_euclidean': 0.835359842903855, 'eval_sts-dev_pearson_dot': 0.8093013609209458, 'eval_sts-dev_spearman_dot': 0.812021947141667, 'eval_sts-dev_pearson_max': 0.8656936470200879, 'eval_sts-dev_spearman_max': 0.8657437835817434, 'eval_runtime': 125.2928, 'eval_samples_per_second': 11.972, 'eval_steps_per_second': 0.75, 'epoch': 0.83}\n"
     ]
    },
    {
     "name": "stderr",
     "output_type": "stream",
     "text": [
      "2024-06-28 23:57:06 - Saving model checkpoint to output/training_stsbenchmark_distilbert-base-uncased-2024-06-28_23-33-56\\checkpoint-360\n",
      "2024-06-28 23:57:06 - Save model to output/training_stsbenchmark_distilbert-base-uncased-2024-06-28_23-33-56\\checkpoint-360\n"
     ]
    },
    {
     "name": "stdout",
     "output_type": "stream",
     "text": [
      "{'train_runtime': 1217.1452, 'train_samples_per_second': 4.723, 'train_steps_per_second': 0.296, 'train_loss': 0.03560277389155494, 'epoch': 1.0}\n"
     ]
    },
    {
     "data": {
      "text/plain": [
       "TrainOutput(global_step=360, training_loss=0.03560277389155494, metrics={'train_runtime': 1217.1452, 'train_samples_per_second': 4.723, 'train_steps_per_second': 0.296, 'total_flos': 0.0, 'train_loss': 0.03560277389155494, 'epoch': 1.0})"
      ]
     },
     "execution_count": 34,
     "metadata": {},
     "output_type": "execute_result"
    }
   ],
   "source": [
    "# 6. Create the trainer & start training\n",
    "trainer = SentenceTransformerTrainer(\n",
    "    model=model,\n",
    "    args=args,\n",
    "    train_dataset=train_dataset,\n",
    "    eval_dataset=eval_dataset,\n",
    "    loss=train_loss,\n",
    "    evaluator=dev_evaluator,\n",
    ")\n",
    "trainer.train()"
   ]
  },
  {
   "cell_type": "code",
   "execution_count": 35,
   "metadata": {},
   "outputs": [
    {
     "name": "stderr",
     "output_type": "stream",
     "text": [
      "2024-06-28 23:57:15 - EmbeddingSimilarityEvaluator: Evaluating the model on the sts-test dataset:\n",
      "2024-06-28 23:57:43 - Cosine-Similarity :\tPearson: 0.8254\tSpearman: 0.8233\n",
      "2024-06-28 23:57:43 - Manhattan-Distance:\tPearson: 0.8143\tSpearman: 0.8110\n",
      "2024-06-28 23:57:43 - Euclidean-Distance:\tPearson: 0.8142\tSpearman: 0.8110\n",
      "2024-06-28 23:57:43 - Dot-Product-Similarity:\tPearson: 0.7421\tSpearman: 0.7348\n"
     ]
    },
    {
     "data": {
      "text/plain": [
       "{'sts-test_pearson_cosine': 0.8254450627634602,\n",
       " 'sts-test_spearman_cosine': 0.8233011242085118,\n",
       " 'sts-test_pearson_manhattan': 0.8142549198916363,\n",
       " 'sts-test_spearman_manhattan': 0.8109806921769,\n",
       " 'sts-test_pearson_euclidean': 0.8141837739915558,\n",
       " 'sts-test_spearman_euclidean': 0.811002712881752,\n",
       " 'sts-test_pearson_dot': 0.7420972823132005,\n",
       " 'sts-test_spearman_dot': 0.7348270129340309,\n",
       " 'sts-test_pearson_max': 0.8254450627634602,\n",
       " 'sts-test_spearman_max': 0.8233011242085118}"
      ]
     },
     "execution_count": 35,
     "metadata": {},
     "output_type": "execute_result"
    }
   ],
   "source": [
    "# 7. Evaluate the model performance on the STS Benchmark test dataset\n",
    "test_evaluator = EmbeddingSimilarityEvaluator(\n",
    "    sentences1=test_dataset[\"sentence1\"],\n",
    "    sentences2=test_dataset[\"sentence2\"],\n",
    "    scores=test_dataset[\"score\"],\n",
    "    main_similarity=SimilarityFunction.COSINE,\n",
    "    name=\"sts-test\",\n",
    ")\n",
    "test_evaluator(model)"
   ]
  },
  {
   "cell_type": "code",
   "execution_count": 36,
   "metadata": {},
   "outputs": [
    {
     "name": "stderr",
     "output_type": "stream",
     "text": [
      "2024-06-28 23:57:43 - Save model to output/training_stsbenchmark_distilbert-base-uncased-2024-06-28_23-33-56/final\n"
     ]
    }
   ],
   "source": [
    "# 8. Save the trained & evaluated model locally\n",
    "final_output_dir = f\"{output_dir}/final\"\n",
    "model.save(final_output_dir)\n"
   ]
  }
 ],
 "metadata": {
  "kernelspec": {
   "display_name": "Python 3",
   "language": "python",
   "name": "python3"
  },
  "language_info": {
   "codemirror_mode": {
    "name": "ipython",
    "version": 3
   },
   "file_extension": ".py",
   "mimetype": "text/x-python",
   "name": "python",
   "nbconvert_exporter": "python",
   "pygments_lexer": "ipython3",
   "version": "3.10.0"
  }
 },
 "nbformat": 4,
 "nbformat_minor": 2
}
